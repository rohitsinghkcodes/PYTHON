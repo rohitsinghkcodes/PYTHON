{
 "cells": [
  {
   "cell_type": "code",
   "execution_count": 9,
   "metadata": {},
   "outputs": [
    {
     "name": "stdout",
     "output_type": "stream",
     "text": [
      "Enter the first operand = 2\n",
      "Enter the second operand = 4\n",
      "1.Sum\n",
      "2.Subtraction\n",
      "3.multiplication\n",
      "4.Division\n",
      "Enter your choice=4\n",
      "\n",
      "The ans is 0.5\n"
     ]
    }
   ],
   "source": [
    "a = int(input(\"Enter the first operand = \"))\n",
    "b = int(input(\"Enter the second operand = \"))\n",
    "n = int(input(\"1.Sum\\n2.Subtraction\\n3.multiplication\\n4.Division\\nEnter your choice=\"))\n",
    "if(n==1):\n",
    "    print(\"\\nThe ans is\",a+b)\n",
    "elif(n==2):\n",
    "    print(\"\\nThe ans is\",a-b)\n",
    "elif(n==3):\n",
    "    print(\"\\nThe ans is\",a*b)\n",
    "elif(n==4):\n",
    "    print(\"\\nThe ans is\",a/b)\n",
    "else:\n",
    "    print(\"\\nWrong Choice!\")"
   ]
  }
 ],
 "metadata": {
  "kernelspec": {
   "display_name": "Python 3",
   "language": "python",
   "name": "python3"
  },
  "language_info": {
   "codemirror_mode": {
    "name": "ipython",
    "version": 3
   },
   "file_extension": ".py",
   "mimetype": "text/x-python",
   "name": "python",
   "nbconvert_exporter": "python",
   "pygments_lexer": "ipython3",
   "version": "3.7.4"
  }
 },
 "nbformat": 4,
 "nbformat_minor": 2
}
