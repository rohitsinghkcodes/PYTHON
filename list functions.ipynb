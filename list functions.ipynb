{
 "cells": [
  {
   "cell_type": "code",
   "execution_count": null,
   "metadata": {},
   "outputs": [],
   "source": [
    "n = int(input(\"Enter the size of the  array=\"))\n",
    "ar=[]\n",
    "for i in range(n):\n",
    "    element = int(input())\n",
    "    ar.append(element)\n",
    "while(1):\n",
    "    a=int(input(\"1.count\\n2.pop\\n3.sort\\n4.reverse\\n5.copy\\n6.exit\\nEnter your choice=\"))\n",
    "    if(a==1):\n",
    "        l = int(input(\"Enter the index or value=\"))\n",
    "        print(ar.count(l))\n",
    "    elif(a==2):\n",
    "        l = int(input(\"Enter the index or value=\"))\n",
    "        print(ar.pop(l))\n",
    "    elif(a==4):\n",
    "        #l = int(input(\"Enter the index or value=\"))\n",
    "        ar.reverse()\n",
    "        print(ar)\n",
    "    elif(a==3):\n",
    "        #l = int(input(\"Enter the index or value=\"))\n",
    "        ar.sort()\n",
    "        print(ar)\n",
    "   # elif(a==5):\n",
    "        #l = int(input(\"Enter the index or value=\"))\n",
    "        #print(ar.pop(l))\n",
    "    elif(a==6):\n",
    "        #l = int(input(\"Enter the index or value=\"))\n",
    "        exit()"
   ]
  }
 ],
 "metadata": {
  "kernelspec": {
   "display_name": "Python 3",
   "language": "python",
   "name": "python3"
  },
  "language_info": {
   "codemirror_mode": {
    "name": "ipython",
    "version": 3
   },
   "file_extension": ".py",
   "mimetype": "text/x-python",
   "name": "python",
   "nbconvert_exporter": "python",
   "pygments_lexer": "ipython3",
   "version": "3.7.4"
  }
 },
 "nbformat": 4,
 "nbformat_minor": 2
}
