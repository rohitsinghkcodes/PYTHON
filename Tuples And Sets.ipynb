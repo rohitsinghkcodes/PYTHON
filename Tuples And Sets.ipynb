{
 "cells": [
  {
   "cell_type": "code",
   "execution_count": 17,
   "metadata": {},
   "outputs": [
    {
     "name": "stdout",
     "output_type": "stream",
     "text": [
      "(2, 4, 76, 12, 99, 2, 2)\n",
      "3\n"
     ]
    }
   ],
   "source": [
    "Tuple = (2,4,76,12,99,2,2)\n",
    "print(Tuple)\n",
    "\n",
    "#Changes cannot be done in touple\n",
    "#for eg.\n",
    "#Tuple[3] = 98 => It throws an error!\n",
    "\n",
    "#Values can be accessed in tuple using index\n",
    "Tuple[4]\n",
    "\n",
    "#Iteration is faster in tuple\n",
    "\n",
    "l1 = Tuple.count(2)\n",
    "print(l1)"
   ]
  },
  {
   "cell_type": "code",
   "execution_count": 27,
   "metadata": {},
   "outputs": [
    {
     "name": "stdout",
     "output_type": "stream",
     "text": [
      "{33, 2, 3, 5, 6, 7, 8}\n",
      "{1, 3, 7, 71, 23}\n"
     ]
    },
    {
     "ename": "TypeError",
     "evalue": "'set' object is not subscriptable",
     "output_type": "error",
     "traceback": [
      "\u001b[0;31m---------------------------------------------------------------------------\u001b[0m",
      "\u001b[0;31mTypeError\u001b[0m                                 Traceback (most recent call last)",
      "\u001b[0;32m<ipython-input-27-aaba9a71c38a>\u001b[0m in \u001b[0;36m<module>\u001b[0;34m\u001b[0m\n\u001b[1;32m     10\u001b[0m \u001b[0;34m\u001b[0m\u001b[0m\n\u001b[1;32m     11\u001b[0m \u001b[0;31m#indexing is not supported in sets\u001b[0m\u001b[0;34m\u001b[0m\u001b[0;34m\u001b[0m\u001b[0;34m\u001b[0m\u001b[0m\n\u001b[0;32m---> 12\u001b[0;31m \u001b[0mset\u001b[0m\u001b[0;34m[\u001b[0m\u001b[0;36m5\u001b[0m\u001b[0;34m]\u001b[0m\u001b[0;34m\u001b[0m\u001b[0;34m\u001b[0m\u001b[0m\n\u001b[0m",
      "\u001b[0;31mTypeError\u001b[0m: 'set' object is not subscriptable"
     ]
    }
   ],
   "source": [
    "#SETS\n",
    "#Set is a collecton of unique elements\n",
    "set = {2,3,5,6,7,8,33}\n",
    "print(set)\n",
    "\n",
    "#You canot be sure with the sequence insets because it uses the concept of hash \n",
    "#which fwtches the element as fast as possible manner\n",
    "set = {1,23,71,1,7,3}\n",
    "print(set)\n",
    "\n",
    "#indexing is not supported in sets\n",
    "#set[5] => It throws an error!"
   ]
  }
 ],
 "metadata": {
  "kernelspec": {
   "display_name": "Python 3",
   "language": "python",
   "name": "python3"
  },
  "language_info": {
   "codemirror_mode": {
    "name": "ipython",
    "version": 3
   },
   "file_extension": ".py",
   "mimetype": "text/x-python",
   "name": "python",
   "nbconvert_exporter": "python",
   "pygments_lexer": "ipython3",
   "version": "3.7.4"
  }
 },
 "nbformat": 4,
 "nbformat_minor": 2
}
