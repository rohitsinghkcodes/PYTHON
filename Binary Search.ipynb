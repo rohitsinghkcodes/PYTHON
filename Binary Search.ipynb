{
 "cells": [
  {
   "cell_type": "code",
   "execution_count": 2,
   "metadata": {},
   "outputs": [
    {
     "name": "stdout",
     "output_type": "stream",
     "text": [
      "Enter the size of the list:5\n",
      "12\n",
      "23\n",
      "34\n",
      "45\n",
      "56\n",
      "Curent list: [12, 23, 34, 45, 56]\n",
      "Enter the searching element:45\n",
      "Element found at position 4\n"
     ]
    }
   ],
   "source": [
    "#Binary search\n",
    "\n",
    "n = int(input(\"Enter the size of the list:\"))\n",
    "li=[]\n",
    "for i in range(n):\n",
    "    ele = int(input())\n",
    "    li.append(ele)\n",
    "print(\"Curent list:\",li)\n",
    "s = int(input(\"Enter the searching element:\"))\n",
    "beg = 0\n",
    "end = n-1\n",
    "mid = int((beg+end)/2)\n",
    "\n",
    "if(beg<end):\n",
    "    while(s!=li[mid]):\n",
    "        if(s>li[mid]):\n",
    "            beg = mid\n",
    "            mid = int((beg+end)/2)\n",
    "        if(s<li[mid]):\n",
    "            end = mid-1\n",
    "            mid = int((beg+end)/2)\n",
    "        if(s == li[mid]):\n",
    "            print(\"Element found at position\",mid+1)\n",
    "        else:\n",
    "            print(\"NOt found\")\n",
    "    "
   ]
  },
  {
   "cell_type": "code",
   "execution_count": null,
   "metadata": {},
   "outputs": [],
   "source": []
  },
  {
   "cell_type": "code",
   "execution_count": null,
   "metadata": {},
   "outputs": [],
   "source": []
  }
 ],
 "metadata": {
  "kernelspec": {
   "display_name": "Python 3",
   "language": "python",
   "name": "python3"
  },
  "language_info": {
   "codemirror_mode": {
    "name": "ipython",
    "version": 3
   },
   "file_extension": ".py",
   "mimetype": "text/x-python",
   "name": "python",
   "nbconvert_exporter": "python",
   "pygments_lexer": "ipython3",
   "version": "3.7.4"
  }
 },
 "nbformat": 4,
 "nbformat_minor": 2
}
