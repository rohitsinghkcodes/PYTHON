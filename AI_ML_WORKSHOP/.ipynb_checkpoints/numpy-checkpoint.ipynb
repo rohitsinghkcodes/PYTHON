{
 "cells": [
  {
   "cell_type": "code",
   "execution_count": 11,
   "metadata": {},
   "outputs": [
    {
     "name": "stdout",
     "output_type": "stream",
     "text": [
      "<class 'numpy.ndarray'>\n",
      "(3,)\n",
      "1 12 3\n",
      "[ 1 12  3]\n",
      "(2, 3)\n"
     ]
    }
   ],
   "source": [
    "import numpy as np\n",
    "a = np.array([1,12,3])\n",
    "print(type(a))\n",
    "\n",
    "print(a.shape)\n",
    "\n",
    "\n",
    "print(a[0],a[1],a[2])\n",
    "\n",
    "\n",
    "a[0]\n",
    "\n",
    "print(a)\n",
    "\n",
    "b = np.array([[1,2,3],[4,5,6]])\n",
    "print(b.shape)\n"
   ]
  },
  {
   "cell_type": "code",
   "execution_count": 17,
   "metadata": {},
   "outputs": [
    {
     "name": "stdout",
     "output_type": "stream",
     "text": [
      "[[0.67018493 0.35359589 0.18517304]\n",
      " [0.10637566 0.10410731 0.77589783]\n",
      " [0.82005656 0.5829081  0.36205233]\n",
      " [0.64997359 0.90300949 0.9962758 ]] \n",
      "*****************************************\n",
      "[[[0.22289295 0.4488254 ]\n",
      "  [0.74723392 0.14122194]\n",
      "  [0.98049036 0.68274973]]\n",
      "\n",
      " [[0.67803638 0.73520023]\n",
      "  [0.41836657 0.00957488]\n",
      "  [0.6927486  0.88286349]]\n",
      "\n",
      " [[0.74503858 0.69431907]\n",
      "  [0.69074941 0.54561658]\n",
      "  [0.98411569 0.40638595]]\n",
      "\n",
      " [[0.98341013 0.8814834 ]\n",
      "  [0.11465817 0.47859278]\n",
      "  [0.67943882 0.8527656 ]]]\n"
     ]
    }
   ],
   "source": [
    "import numpy as np\n",
    "a=np.random.random((4,3))#It will create random genetated values in the matrix of order 4x3\n",
    "print(a,\"\\n*****************************************\")\n",
    "b=np.random.random((4,3,2)) #It will create random generated values in 4 matrices of order 3x2\n",
    "print(b)"
   ]
  },
  {
   "cell_type": "code",
   "execution_count": 34,
   "metadata": {},
   "outputs": [
    {
     "name": "stdout",
     "output_type": "stream",
     "text": [
      "[5 6 7 8 4]\n",
      "*********************\n",
      "[[ True  True  True]\n",
      " [False False False]\n",
      " [ True False  True]]\n",
      "*********************\n",
      "[[ 10  24  21]\n",
      " [  1  16  15]\n",
      " [792  -2  12]]\n"
     ]
    }
   ],
   "source": [
    "import numpy as np\n",
    "a = np.array([[5,6,7],[1,2,3],[8,-1,4]])\n",
    "\n",
    "b= np.array([[2,4,3],[1,8,5],[99,2,3]])\n",
    "#it will give all the values which is greater than 3\n",
    "print(a[a>3])\n",
    "print(\"*********************\")\n",
    "c= np.array([[2,4,3],[1,8,5],[99,2,3]])\n",
    "#It will check the cond. of greater than 3\n",
    "print(a>3)\n",
    "print(\"*********************\")\n",
    "m = np.multiply(a,b,c)\n",
    "print(m)\n",
    "\n"
   ]
  }
 ],
 "metadata": {
  "kernelspec": {
   "display_name": "Python 3",
   "language": "python",
   "name": "python3"
  },
  "language_info": {
   "codemirror_mode": {
    "name": "ipython",
    "version": 3
   },
   "file_extension": ".py",
   "mimetype": "text/x-python",
   "name": "python",
   "nbconvert_exporter": "python",
   "pygments_lexer": "ipython3",
   "version": "3.7.4"
  }
 },
 "nbformat": 4,
 "nbformat_minor": 2
}
