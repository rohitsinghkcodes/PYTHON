{
 "cells": [
  {
   "cell_type": "code",
   "execution_count": 2,
   "metadata": {},
   "outputs": [
    {
     "name": "stdout",
     "output_type": "stream",
     "text": [
      "Enter the first operand = 2\n",
      "ENter the second operand = 6\n",
      "1.Sum\n",
      "2.Subtraction\n",
      "3.multiplication\n",
      "4.Division4\n",
      "\n",
      "The ans is 0.3333333333333333\n"
     ]
    }
   ],
   "source": [
    "a = int(input(\"Enter the first operand = \"))\n",
    "b = int(input(\"Enter the second operand = \"))\n",
    "n = int(input(\"1.Sum\\n2.Subtraction\\n3.multiplication\\n4.Division\"))\n",
    "if(n==1):\n",
    "    print(\"\\nThe ans is\",a+b)\n",
    "elif(n==2):\n",
    "    print(\"\\nThe ans is\",a-b)\n",
    "elif(n==3):\n",
    "    print(\"\\nThe ans is\",a*b)\n",
    "elif(n==4):\n",
    "    print(\"\\nThe ans is\",a/b)\n",
    "else:\n",
    "    print(\"\\nWrong Choice!\")"
   ]
  }
 ],
 "metadata": {
  "kernelspec": {
   "display_name": "Python 3",
   "language": "python",
   "name": "python3"
  },
  "language_info": {
   "codemirror_mode": {
    "name": "ipython",
    "version": 3
   },
   "file_extension": ".py",
   "mimetype": "text/x-python",
   "name": "python",
   "nbconvert_exporter": "python",
   "pygments_lexer": "ipython3",
   "version": "3.7.4"
  }
 },
 "nbformat": 4,
 "nbformat_minor": 2
}
