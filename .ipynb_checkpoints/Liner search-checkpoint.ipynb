{
 "cells": [
  {
   "cell_type": "code",
   "execution_count": 28,
   "metadata": {},
   "outputs": [
    {
     "name": "stdout",
     "output_type": "stream",
     "text": [
      "Enter the size of the  array=5\n",
      "23\n",
      "43\n",
      "54\n",
      "23\n",
      "46\n",
      "Enter the searching element=54\n",
      "Item found at position= 3\n"
     ]
    }
   ],
   "source": [
    "n = int(input(\"Enter the size of the  array=\"))\n",
    "ar=[]\n",
    "for i in range(n):\n",
    "    element = int(input())\n",
    "    ar.append(element)\n",
    "s = int(input(\"Enter the searching element=\"))\n",
    "for i in range(n):\n",
    "    if(s==ar[i]):\n",
    "        print(\"Item found at position=\",i+1)\n",
    "        break\n",
    "  \n",
    "\n"
   ]
  }
 ],
 "metadata": {
  "kernelspec": {
   "display_name": "Python 3",
   "language": "python",
   "name": "python3"
  },
  "language_info": {
   "codemirror_mode": {
    "name": "ipython",
    "version": 3
   },
   "file_extension": ".py",
   "mimetype": "text/x-python",
   "name": "python",
   "nbconvert_exporter": "python",
   "pygments_lexer": "ipython3",
   "version": "3.7.4"
  }
 },
 "nbformat": 4,
 "nbformat_minor": 2
}
