{
 "cells": [
  {
   "cell_type": "code",
   "execution_count": 18,
   "metadata": {},
   "outputs": [
    {
     "name": "stdout",
     "output_type": "stream",
     "text": [
      "The max no is= 89\n"
     ]
    }
   ],
   "source": [
    "#Max no from list\n",
    "\n",
    "List = [5,12,67,89,32]\n",
    "print(\"The max no is=\",max(List))"
   ]
  },
  {
   "cell_type": "code",
   "execution_count": 12,
   "metadata": {},
   "outputs": [
    {
     "name": "stdout",
     "output_type": "stream",
     "text": [
      "Enter the no yo be entered=5\n",
      "1\n",
      "2\n",
      "3\n",
      "4\n",
      "5\n",
      "[1, 2, 3, 4, 5]\n",
      "The max Element from the list is= 5\n"
     ]
    }
   ],
   "source": [
    "#Finding max element in user defined list\n",
    "list = []\n",
    "n = int(input(\"Enter the no yo be entered=\"))\n",
    "for i in range(0,n):\n",
    "    ele = int(input())\n",
    "    list.append(ele)\n",
    "\n",
    "print(list)\n",
    "print(\"The max Element from the list is=\",max(list))"
   ]
  },
  {
   "cell_type": "code",
   "execution_count": 14,
   "metadata": {},
   "outputs": [
    {
     "name": "stdout",
     "output_type": "stream",
     "text": [
      "Enter the no to be powered =2\n",
      "Enter the power =5\n",
      "The powered ans is =  32\n"
     ]
    }
   ],
   "source": [
    "#To find the power of a no\n",
    "a = int(input(\"Enter the no to be powered =\"))\n",
    "n = int(input(\"Enter the power =\"))\n",
    "print(\"The powered ans is = \",a**n)"
   ]
  },
  {
   "cell_type": "code",
   "execution_count": 15,
   "metadata": {},
   "outputs": [
    {
     "name": "stdout",
     "output_type": "stream",
     "text": [
      "Enter the no to be powered =2\n",
      "Enter the power =5\n",
      "32\n"
     ]
    }
   ],
   "source": [
    "#To find the power of a no using pow functon\n",
    "a = int(input(\"Enter the no to be powered =\"))\n",
    "n = int(input(\"Enter the power =\"))\n",
    "print(pow(a,n))"
   ]
  },
  {
   "cell_type": "code",
   "execution_count": 17,
   "metadata": {
    "scrolled": true
   },
   "outputs": [
    {
     "name": "stdout",
     "output_type": "stream",
     "text": [
      "Enter the no to be powered =2\n",
      "Enter the power =5\n",
      "32\n"
     ]
    }
   ],
   "source": [
    "#To find the power of a no using loops\n",
    "a = int(input(\"Enter the no to be powered =\"))\n",
    "n = int(input(\"Enter the power =\"))\n",
    "power=1\n",
    "for i in range(1,n+1):\n",
    "    power*=a\n",
    "print(power)"
   ]
  }
 ],
 "metadata": {
  "kernelspec": {
   "display_name": "Python 3",
   "language": "python",
   "name": "python3"
  },
  "language_info": {
   "codemirror_mode": {
    "name": "ipython",
    "version": 3
   },
   "file_extension": ".py",
   "mimetype": "text/x-python",
   "name": "python",
   "nbconvert_exporter": "python",
   "pygments_lexer": "ipython3",
   "version": "3.7.4"
  }
 },
 "nbformat": 4,
 "nbformat_minor": 2
}
