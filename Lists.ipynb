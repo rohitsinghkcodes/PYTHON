{
 "cells": [
  {
   "cell_type": "code",
   "execution_count": 55,
   "metadata": {},
   "outputs": [
    {
     "name": "stdout",
     "output_type": "stream",
     "text": [
      " [1, 2, 87, 3, 4, 5]\n",
      "Changed values of list after the use of append\n",
      " [1, 2, 87, 3, 4, 5, 99]\n",
      "Changed values of list after the use of insert\n",
      " [1, 2, 87, 77, 3, 4, 5, 99]\n",
      "Changes in the value of list after the use of remove\n",
      " [1, 2, 87, 77, 3, 5, 99]\n",
      "Changes in the value of the list after the use of pop\n",
      " [2, 87, 77, 3, 5, 99]\n",
      "Changes in the value of the list after the use of del\n",
      " [2, 87, 5, 99]\n",
      "Changes in the value of the list after the use of extend\n",
      " [2, 87, 5, 99, 9, 76, 43, 67, 12]\n",
      "\n",
      "The min value from the list is= 2\n",
      "The max value from the list is= 99\n",
      "The sum is= 400\n",
      "The sorted list is= [2, 5, 9, 12, 43, 67, 76, 87, 99]\n",
      "\n",
      "Changes in the value of the list after the use of clear= []\n"
     ]
    }
   ],
   "source": [
    "number = [1,2,3,4,5]\n",
    "number[2]\n",
    "number.insert(2,87)\n",
    "print(\"\",number)\n",
    "\n",
    "#To add the element to the end of the list\n",
    "#Use append(>value>)\n",
    "number.append(99)\n",
    "print(\"Changed values of list after the use of append\\n\",number)\n",
    "\n",
    "#To add the element in b/w the list\n",
    "#Use insert(<index,value>)\n",
    "number.insert(3,77)\n",
    "print(\"Changed values of list after the use of insert\\n\",number)\n",
    "\n",
    "#To remove the desired no from the list\n",
    "#Use remove(<item to be removed>)\n",
    "number.remove(4)\n",
    "print(\"Changes in the value of list after the use of remove\\n\",number)\n",
    "\n",
    "#if you want to delete item on the bnase of index no\n",
    "#use pop(<index>)\n",
    "number.pop(0)\n",
    "print(\"Changes in the value of the list after the use of pop\\n\",number)\n",
    "\n",
    "#To remove the multiple values from the list\n",
    "#Use del <Listname> (<StartingIndex>:<EndingIndex>)\n",
    "del number[2:4]\n",
    "print(\"Changes in the value of the list after the use of del\\n\",number)\n",
    "\n",
    "#to add multiple values in the list\n",
    "#Use extend([<Values,values]>)\\\n",
    "number.extend([9,76,43,67,12])\n",
    "print(\"Changes in the value of the list after the use of extend\\n\",number)\n",
    "\n",
    "#To find the min value from the list\n",
    "#Use min(<listName>)\n",
    "print(\"\\nThe min value from the list is=\",min(number))\n",
    "\n",
    "#To find the max value from the list \n",
    "#Use max(<listName>)\n",
    "print(\"The max value from the list is=\",max(number))\n",
    "\n",
    "#To find the sum of all the elements of the list\n",
    "#Use sum(<listName>)\n",
    "print(\"The sum is=\",sum(number))\n",
    "\n",
    "#TO sor the values of the list\n",
    "#Use <listName>.sort()\n",
    "number.sort()\n",
    "print(\"The sorted list is=\",number)\n",
    "\n",
    "#To clear out the whole list\n",
    "#Use <listName>.clear()\n",
    "number.clear()\n",
    "print(\"\\nChanges in the value of the list after the use of clear=\",number)"
   ]
  }
 ],
 "metadata": {
  "kernelspec": {
   "display_name": "Python 3",
   "language": "python",
   "name": "python3"
  },
  "language_info": {
   "codemirror_mode": {
    "name": "ipython",
    "version": 3
   },
   "file_extension": ".py",
   "mimetype": "text/x-python",
   "name": "python",
   "nbconvert_exporter": "python",
   "pygments_lexer": "ipython3",
   "version": "3.7.4"
  }
 },
 "nbformat": 4,
 "nbformat_minor": 2
}
